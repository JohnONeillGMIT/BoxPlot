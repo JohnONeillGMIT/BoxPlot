{
 "cells": [
  {
   "cell_type": "markdown",
   "metadata": {
    "collapsed": true
   },
   "source": [
    "### History of the Boxplot\n",
    "\n",
    "John Tukey created the boxplot in 1970.\n",
    "\n",
    "A Boxplot shows a Distribution summary in a contensed graph.\n",
    "\n",
    "The basic graphic form of the boxplot, the range-bar, was established in the early 1950’s Spear (1952, pg.\n",
    "164). Tukey’s contribution was to think deeply about appropriate summary statistics that worked for a wide\n",
    "range of data and to connect those to the visual components of the range bar. Today, what we call a boxplot\n",
    "is more closely related to what Tukey called a schematic plot, a box and whiskers plot with some special\n",
    "restrictions on the summary statistics used\n",
    "The boxplot is made up of five components, carefully chosen to give a robust summary of the distribution\n",
    "of a dataset:\n",
    "* the *median*,\n",
    "* two *hinges*, the upper and lower fourths (quartiles),\n",
    "* the data values adjacent to the upper and lower *fences*, which lie 1.5 times the inter-fourth range from\n",
    "the median,\n",
    "* two *whiskers* that connect the hinges to the fences, and\n",
    "* (potential) *out-liers*, individual points further away from the median than the extremes.\n",
    "http://vita.had.co.nz/papers/boxplots.pdf"
   ]
  },
  {
   "attachments": {
    "image.png": {
     "image/png": "[encoded data removed]"
    }
   },
   "cell_type": "markdown",
   "metadata": {
    "collapsed": true
   },
   "source": [
    "### What is a Boxplot\n",
    "http://www.physics.csbsju.edu/stats/box2.html\n",
    "\n",
    "Good description - all taken from this link\n",
    "\n",
    "\"The box plot (a.k.a. box and whisker diagram) is a standardized way of displaying the distribution of data based on the five number summary: minimum, first quartile, median, third quartile, and maximum. In the simplest box plot the central rectangle spans the first quartile to the third quartile (the interquartile range or IQR). A segment inside the rectangle shows the median and \"whiskers\" above and below the box show the locations of the minimum and maximum.\"\n",
    "http://www.physics.csbsju.edu/stats/box2.html\n",
    "\n",
    "![image.png](attachment:image.png)\n",
    "\n",
    "This simplest possible box plot displays the full range of variation (from min to max), the likely range of variation (the IQR), and a typical value (the median). Not uncommonly real datasets will display surprisingly high maximums or surprisingly low minimums called outliers. John Tukey has provided a precise definition for two types of outliers:\n",
    "\n",
    "Outliers are either 3×IQR or more above the third quartile or 3×IQR or more below the first quartile.\n",
    "Suspected outliers are are slightly more central versions of outliers: either 1.5×IQR or more above the third quartile or 1.5×IQR or more below the first quartile.\n",
    "If either type of outlier is present the whisker on the appropriate side is taken to 1.5×IQR from the quartile (the \"inner fence\") rather than the max or min, and individual outlying data points are displayed as unfilled circles (for suspected outliers) or filled circles (for outliers). (The \"outer fence\" is 3×IQR from the quartile.)\n",
    "\n",
    "f the data happens to be normally distributed,\n",
    "\n",
    "IQR = 1.35 σ\n",
    "\n",
    "where σ is the population standard deviation.\n",
    "\n",
    "Suspected outliers are not uncommon in large normally distributed datasets (say more than 100 data-points). Outliers are expected in normally distributed datasets with more than about 10,000 data-points. Here is an example of 1000 normally distributed data displayed as a box plot:\n",
    "\n",
    "Note that outliers are not necessarily \"bad\" data-points; indeed they may well be the most important, most information rich, part of the dataset. Under no circumstances should they be automatically removed from the dataset. Outliers may deserve special consideration: they may be the key to the phenomenon under study or the result of human blunders.\n",
    "\n",
    "One case of particular concern --where a box plot can be deceptive-- is when the data are distributed into \"two lumps\" rather than the \"one lump\" cases we've considered so far.\n",
    "A \"bee swarm\" plot shows that in this dataset there are lots of data near 10 and 15 but relatively few in between. See that a box plot would not give you any evidence of this.\n",
    "http://www.physics.csbsju.edu/stats/box2.html\n"
   ]
  },
  {
   "cell_type": "markdown",
   "metadata": {},
   "source": [
    "Some Notes...\n",
    "* shows the spread of the data points across the range\n",
    "* Median = middle datapoint\n",
    "* 1 Quartile = middle of 1st half, between lowest value and median\n",
    "* 3 Quartile = middle of second half, between highest value and median\n",
    "* IQR Inter Quartile range = Q3 Identifier -Q1 Identifier\n",
    "* Use the inter-quartile range (IQR) to judge outliers in a dataset.\n",
    "* Outlier: numerical definition: less than Q1 - 1.5x IQR or >Q3 + 1.5x IQR\n",
    "\n"
   ]
  },
  {
   "cell_type": "markdown",
   "metadata": {},
   "source": [
    "https://chartio.com/resources/tutorials/what-is-a-box-plot/\n",
    "\n",
    "A Box Plot is the visual representation of the statistical five number summary of a given data set.\n",
    "\n",
    "A Five Number Summary includes:\n",
    "\n",
    "* Minimum\n",
    "* First Quartile\n",
    "* Median (Second Quartile)\n",
    "* Third Quartile\n",
    "* Maximum"
   ]
  },
  {
   "cell_type": "markdown",
   "metadata": {},
   "source": [
    "compare to Histogram, bell curve"
   ]
  },
  {
   "cell_type": "markdown",
   "metadata": {},
   "source": [
    "### References\n",
    "https://chartio.com/resources/tutorials/what-is-a-box-plot/"
   ]
  },
  {
   "cell_type": "markdown",
   "metadata": {
    "collapsed": true
   },
   "source": [
    "https://www.edwardtufte.com/tufte/tukey"
   ]
  },
  {
   "cell_type": "code",
   "execution_count": null,
   "metadata": {
    "collapsed": true
   },
   "outputs": [],
   "source": []
  }
 ],
 "metadata": {
  "kernelspec": {
   "display_name": "Python 3",
   "language": "python",
   "name": "python3"
  },
  "language_info": {
   "codemirror_mode": {
    "name": "ipython",
    "version": 3
   },
   "file_extension": ".py",
   "mimetype": "text/x-python",
   "name": "python",
   "nbconvert_exporter": "python",
   "pygments_lexer": "ipython3",
   "version": "3.6.3"
  }
 },
 "nbformat": 4,
 "nbformat_minor": 2
}
