{
 "cells": [
  {
   "cell_type": "markdown",
   "metadata": {
    "collapsed": true
   },
   "source": [
    "### History of the Boxplot\n",
    "\n",
    "Many publications attribute the creation of the Box Plot to John Tukey in 1970 with the \"schematic plot\".The Box Plot as also referred to as the \"box-and-whisker plot\".\n",
    "\n",
    "A Boxplot shows a Distribution summary in a contensed graph.\n",
    "\n",
    "There were earlier versions of the boxplot referred to earlier than Tukey's refinement. There have also been many modifications to Tukeys design since with the development of computer simulations. There are many references to earlier forms of boxplot https://stats.stackexchange.com/questions/369393/whats-the-history-of-box-plots-and-how-did-the-box-and-whiskers-design-evolv\n",
    "\n",
    "The basic graphic form of the boxplot, the range-bar, was established in the early 1950’s Spear (1952, pg.164). Tukey’s contribution was to think deeply about appropriate summary statistics that worked for a wide\n",
    "range of data and to connect those to the visual components of the range bar. Today, what we call a boxplot is more closely related to what Tukey called a schematic plot, a box and whiskers plot with some special\n",
    "restrictions on the summary statistics used\n",
    "The boxplot is made up of five components, carefully chosen to give a robust summary of the distribution\n",
    "of a dataset:\n",
    "* the *median*,\n",
    "* two *hinges*, the upper and lower fourths (quartiles),\n",
    "* the data values adjacent to the upper and lower *fences*, which lie 1.5 times the inter-fourth range from\n",
    "the median,\n",
    "* two *whiskers* that connect the hinges to the fences, and\n",
    "* (potential) *out-liers*, individual points further away from the median than the extremes.\n",
    "http://vita.had.co.nz/papers/boxplots.pdf\n"
   ]
  },
  {
   "cell_type": "markdown",
   "metadata": {},
   "source": [
    "A box-and-whisker plot (sometimes called simply a box plot) is a histogram-like method of displaying data, invented by J. Tukey. To create a box-and-whisker plot, draw a box with ends at the quartiles Q_1 and Q_3. Draw the statistical median M as a horizontal line in the box. Now extend the \"whiskers\" to the farthest points that are not outliers (i.e., that are within 3/2 times the interquartile range of Q_1 and Q_3). Then, for every point more than 3/2 times the interquartile range from the end of a box, draw a dot. If two dots have the same value, draw them side by side (Gonick and Smith 1993, p. 21). Box-and-whisker plots are implemented as BoxWhiskerPlot[data] in the Wolfram Language package StatisticalPlots` .\n",
    "\n",
    "A number of other slightly different conventions are sometimes used. In Tukey's original definition, the closely-related and lesser known hinges H_1 and H_3 were used instead of Q_1 and Q_3 (Tukey 1977, p. 39). In addition, Tukey's original formulation lacked horizontal crossbars, extended the whiskers all the way to the extreme data points, and drew an unfilled dot at the maximum and a hatched horizontal strip at the minimum, as illustrated above (left figure; Tukey 1977, p. 40). A variation extended the whiskers only out to some arbitrary minimum and maximum values and identifying the outliers with explicit labels (Tukey 1977, p. 41). Tukey also considered an additional variation in which the outliers are indicated separately and whiskers are dashed, ending with dashed crossbars at \"adjacent values\" (values closest to but still inside the inner fences).\n",
    "\n",
    "http://mathworld.wolfram.com/Box-and-WhiskerPlot.html\n"
   ]
  },
  {
   "cell_type": "markdown",
   "metadata": {},
   "source": [
    "The box-and-whisker plot is useful for revealing the central tendency and variability of a data set, the distribution (particularly symmetry or skewness) of the data, and the presence of outliers. It is also a powerful graphical technique for comparing samples from two or more different treatments or populations. \n",
    "https://www.britannica.com/science/box-and-whisker-plot\n"
   ]
  },
  {
   "attachments": {
    "image.png": {
     "image/png": "[encoded data removed]"
    }
   },
   "cell_type": "markdown",
   "metadata": {
    "collapsed": true
   },
   "source": [
    "### What is a Boxplot\n",
    "http://www.physics.csbsju.edu/stats/box2.html\n",
    "\n",
    "Good description - all taken from this link\n",
    "\n",
    "\"The box plot (a.k.a. box and whisker diagram) is a standardized way of displaying the distribution of data based on the five number summary: minimum, first quartile, median, third quartile, and maximum. In the simplest box plot the central rectangle spans the first quartile to the third quartile (the interquartile range or IQR). A segment inside the rectangle shows the median and \"whiskers\" above and below the box show the locations of the minimum and maximum.\"\n",
    "http://www.physics.csbsju.edu/stats/box2.html\n",
    "\n",
    "![image.png](attachment:image.png)\n",
    "\n",
    "This simplest possible box plot displays the full range of variation (from min to max), the likely range of variation (the IQR), and a typical value (the median). Not uncommonly real datasets will display surprisingly high maximums or surprisingly low minimums called outliers. John Tukey has provided a precise definition for two types of outliers:\n",
    "\n",
    "Outliers are either 3×IQR or more above the third quartile or 3×IQR or more below the first quartile.\n",
    "Suspected outliers are are slightly more central versions of outliers: either 1.5×IQR or more above the third quartile or 1.5×IQR or more below the first quartile.\n",
    "If either type of outlier is present the whisker on the appropriate side is taken to 1.5×IQR from the quartile (the \"inner fence\") rather than the max or min, and individual outlying data points are displayed as unfilled circles (for suspected outliers) or filled circles (for outliers). (The \"outer fence\" is 3×IQR from the quartile.)\n",
    "\n",
    "f the data happens to be normally distributed,\n",
    "\n",
    "IQR = 1.35 σ\n",
    "\n",
    "where σ is the population standard deviation.\n",
    "\n",
    "Suspected outliers are not uncommon in large normally distributed datasets (say more than 100 data-points). Outliers are expected in normally distributed datasets with more than about 10,000 data-points. Here is an example of 1000 normally distributed data displayed as a box plot:\n",
    "\n",
    "Note that outliers are not necessarily \"bad\" data-points; indeed they may well be the most important, most information rich, part of the dataset. Under no circumstances should they be automatically removed from the dataset. Outliers may deserve special consideration: they may be the key to the phenomenon under study or the result of human blunders.\n",
    "\n",
    "One case of particular concern --where a box plot can be deceptive-- is when the data are distributed into \"two lumps\" rather than the \"one lump\" cases we've considered so far.\n",
    "A \"bee swarm\" plot shows that in this dataset there are lots of data near 10 and 15 but relatively few in between. See that a box plot would not give you any evidence of this.\n",
    "http://www.physics.csbsju.edu/stats/box2.html\n"
   ]
  },
  {
   "cell_type": "markdown",
   "metadata": {},
   "source": [
    "The median is another measure of central location that, unlike the mean, is not affected by extremely large or extremely small data values. When determining the median, the data values are first ranked in order from the smallest value to the largest value. If there is an odd number of data values, the median is the middle value; if there is an even number of data values, the median is the average of the two middle values\n",
    "https://www.britannica.com/science/statistics/Numerical-measures#ref367419\n",
    "\n"
   ]
  },
  {
   "cell_type": "markdown",
   "metadata": {},
   "source": [
    "Some Notes...\n",
    "* shows the spread of the data points across the range\n",
    "* Median = middle datapoint\n",
    "* 1 Quartile = middle of 1st half, between lowest value and median\n",
    "* 3 Quartile = middle of second half, between highest value and median\n",
    "* IQR Inter Quartile range = Q3 Identifier -Q1 Identifier\n",
    "* Use the inter-quartile range (IQR) to judge outliers in a dataset.\n",
    "* Outlier: numerical definition: less than Q1 - 1.5x IQR or >Q3 + 1.5x IQR\n",
    "\n"
   ]
  },
  {
   "cell_type": "markdown",
   "metadata": {},
   "source": [
    "The five-number summary provides a concise summary of the distribution of the observations. Reporting five numbers avoids the need to decide on the most appropriate summary statistic. The five-number summary gives information about the location (from the median), spread (from the quartiles) and range (from the sample minimum and maximum) of the observations. Since it reports order statistics (rather than, say, the mean) the five-number summary is appropriate for ordinal measurements, as well as interval and ratio measurements.\n",
    "https://en.wikipedia.org/wiki/Five-number_summary\n"
   ]
  },
  {
   "cell_type": "markdown",
   "metadata": {},
   "source": [
    "https://chartio.com/resources/tutorials/what-is-a-box-plot/\n",
    "\n",
    "A Box Plot is the visual representation of the statistical five number summary of a given data set.\n",
    "\n",
    "A Five Number Summary includes:\n",
    "\n",
    "* Minimum\n",
    "* First Quartile\n",
    "* Median (Second Quartile)\n",
    "* Third Quartile\n",
    "* Maximum"
   ]
  },
  {
   "cell_type": "markdown",
   "metadata": {},
   "source": [
    "https://machinelearningmastery.com/how-to-calculate-the-5-number-summary-for-your-data-in-python/\n",
    "\n",
    "he five-number summary for describing the distribution of a data sample without assuming a specific data distribution.\n",
    "\n",
    "After completing this tutorial, you will know:\n",
    "\n",
    "Data summarization, such as calculating the mean and standard deviation, are only meaningful for the Gaussian distribution.\n",
    "The five-number summary can be used to describe a data sample with any distribution.\n",
    "How to calculate the five-number summary in Python.\n",
    "\n",
    "How to Calculate the 5-Number Summary for Your Data in Python\n",
    "by Jason Brownlee on June 13, 2018 in Statistical Methods\n",
    "Tweet   Share   Share   Google Plus\n",
    "Data summarization provides a convenient way to describe all of the values in a data sample with just a few statistical values.\n",
    "\n",
    "The mean and standard deviation are used to summarize data with a Gaussian distribution, but may not be meaningful, or could even be misleading, if your data sample has a non-Gaussian distribution.\n",
    "\n",
    "In this tutorial, you will discover the five-number summary for describing the distribution of a data sample without assuming a specific data distribution.\n",
    "\n",
    "After completing this tutorial, you will know:\n",
    "\n",
    "Data summarization, such as calculating the mean and standard deviation, are only meaningful for the Gaussian distribution.\n",
    "The five-number summary can be used to describe a data sample with any distribution.\n",
    "How to calculate the five-number summary in Python.\n",
    "Let’s get started.\n",
    "\n",
    "How to Calculate the 5-Number Summary for Your Data in Python\n",
    "How to Calculate the 5-Number Summary for Your Data in Python\n",
    "Photo by Masterbutler, some rights reserved.\n",
    "\n",
    "Tutorial Overview\n",
    "This tutorial is divided into 4 parts; they are:\n",
    "\n",
    "Nonparametric Data Summarization\n",
    "Five-Number Summary\n",
    "How to Calculate the Five-Number Summary\n",
    "Use of the Five-Number Summary\n",
    "Need help with Statistics for Machine Learning?\n",
    "Take my free 7-day email crash course now (with sample code).\n",
    "\n",
    "Click to sign-up and also get a free PDF Ebook version of the course.\n",
    "\n",
    "Download Your FREE Mini-Course\n",
    "Nonparametric Data Summarization\n",
    "Data summarization techniques provide a way to describe the distribution of data using a few key measurements.\n",
    "\n",
    "The most common example of data summarization is the calculation of the mean and standard deviation for data that has a Gaussian distribution. With these two parameters alone, you can understand and re-create the distribution of the data. The data summary can compress as few as tens or as many as millions individual observations.\n",
    "\n",
    "The problem is, you cannot easily calculate the mean and standard deviation of data that does not have a Gaussian distribution. Technically, you can calculate these quantities, but they do not summarize the data distribution; in fact, they can be very misleading.\n",
    "\n",
    "In the case of data that does not have a Gaussian distribution, you can summarize the data sample using the five-number summary.\n"
   ]
  },
  {
   "cell_type": "markdown",
   "metadata": {},
   "source": [
    "compare to Histogram, bell curve"
   ]
  },
  {
   "cell_type": "code",
   "execution_count": 1,
   "metadata": {},
   "outputs": [
    {
     "ename": "NameError",
     "evalue": "name 'numpy' is not defined",
     "output_type": "error",
     "traceback": [
      "\u001b[1;31m---------------------------------------------------------------------------\u001b[0m",
      "\u001b[1;31mNameError\u001b[0m                                 Traceback (most recent call last)",
      "\u001b[1;32m<ipython-input-1-d333b29f72b5>\u001b[0m in \u001b[0;36m<module>\u001b[1;34m()\u001b[0m\n\u001b[1;32m----> 1\u001b[1;33m \u001b[0mnumpy\u001b[0m\u001b[1;33m.\u001b[0m\u001b[0mpercentile\u001b[0m\u001b[1;33m\u001b[0m\u001b[0m\n\u001b[0m",
      "\u001b[1;31mNameError\u001b[0m: name 'numpy' is not defined"
     ]
    }
   ],
   "source": [
    "numpy.percentile"
   ]
  },
  {
   "cell_type": "markdown",
   "metadata": {
    "collapsed": true
   },
   "source": [
    "### Box-and-Whisker Plot\n",
    "\n",
    "Definition: A box-and-whisker plot or boxplot is a diagram based on the five-number summary of a data set.\n",
    "\n",
    "Notice that in any box-and-whisker plot, the left-side whisker represents where we find approximately the lowest 25% of the data and the right-side whisker represents where we find approximately the highest 25% of the data. The box part represents the interquartile range and represents approximately the middle 50% of all the data. The data is divided into four regions, which each represent approximately 25% of the data. This gives us a nice visual representation of how the data is spread out across the range.\n",
    "\n",
    "* The minimum value of a data set is the least value in the set.\n",
    "* The maximum value of a data set is the greatest value in the set.\n",
    " *The range of a data set is the distance between the maximum and minimum value. To compute the range of a data set, we subtract the minimum from the maximum:\n",
    "range = maximum – minimum.\n",
    "* The interquartile range of a data set is the distance between the two quartiles.\n",
    "Interquartile range = Q3 – Q1.\n",
    "* The lower half of a data set is the set of all values that are to the left of the median value when the data has been put into increasing order.\n",
    "* The upper half of a data set is the set of all values that are to the right of the median value when the data has been put into increasing order.\n",
    "* The first quartile, denoted by Q1 , is the median of the lower half of the data set. This means that about 25% of the numbers in the data set lie below Q1 and about 75% lie above Q1 .\n",
    "* The third quartile, denoted by Q3 , is the median of the upper half of the data set. This means that about 75% of the numbers in the data set lie below Q3 and about 25% lie above Q3 .\n",
    "* A data set is any finite set of real numbers.  \n",
    "* A data set is in increasing order if the numbers in the data set are arranged from the least value to greatest value with the least value on the left and the greatest value on the right.\n",
    "* The median of a data set is the number that, when the set is put into increasing order, divides the data into two equal parts.  \n",
    "* If a data set has an odd number of data points, then the median is the middle data value (when the data is in increasing order).\n",
    "* If a data set has an even number of data points, then the median is the mean of the two middle data values (when the data is in increasing order).\n",
    "\n",
    "\n",
    "http://web.mnstate.edu/peil/MDEV102/U4/S36/S365.html"
   ]
  },
  {
   "cell_type": "markdown",
   "metadata": {},
   "source": [
    "### References\n",
    "https://chartio.com/resources/tutorials/what-is-a-box-plot/\n",
    "https://flowingdata.com/2011/12/06/40-years-of-boxplots/\n",
    "http://mathworld.wolfram.com/Box-and-WhiskerPlot.html\n",
    "Tukey, J. W. \"Box-and-Whisker Plots.\" §2C in Exploratory Data Analysis. Reading, MA: Addison-Wesley, pp. 39-43, 1977."
   ]
  },
  {
   "cell_type": "markdown",
   "metadata": {
    "collapsed": true
   },
   "source": [
    "https://www.edwardtufte.com/tufte/tukey"
   ]
  }
 ],
 "metadata": {
  "kernelspec": {
   "display_name": "Python 3",
   "language": "python",
   "name": "python3"
  },
  "language_info": {
   "codemirror_mode": {
    "name": "ipython",
    "version": 3
   },
   "file_extension": ".py",
   "mimetype": "text/x-python",
   "name": "python",
   "nbconvert_exporter": "python",
   "pygments_lexer": "ipython3",
   "version": "3.6.3"
  }
 },
 "nbformat": 4,
 "nbformat_minor": 2
}
