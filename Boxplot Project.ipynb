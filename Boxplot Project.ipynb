{
 "cells": [
  {
   "cell_type": "markdown",
   "metadata": {
    "collapsed": true
   },
   "source": [
    "### History of the Boxplot\n",
    "\n",
    "The Box Plot, as also referred to as the \"box-and-whisker plot\" has its origin attributed to John Tukey in 1970 with the \"schematic plot\".\n",
    "\n",
    "There were versions of the boxplot referred before Tukey's version, and also been many modifications to Tukeys design since with the development of computer simulations. There are many references to earlier forms of boxplot.Earlier versions such as the \"range bar\" were established in the 1950s by Spear Spear (1952, pg.164) https://stats.stackexchange.com/questions/369393/whats-the-history-of-box-plots-and-how-did-the-box-and-whiskers-design-evolv\n",
    "\n",
    "The evolution of the box plot is set out in some detail in the paper \"40 years of Boxplots\" by Hadley Wickham and Lisa Stryjewski (2011). http://vita.had.co.nz/papers/boxplots.pdf\n",
    "\n",
    "The boxplot is made up of the 5 number summary in a graphical form. Tukeys terminology has evolved - the original classifications were:\n",
    "* the *median*,\n",
    "* two *hinges*, the upper and lower fourths (quartiles),\n",
    "* the data values adjacent to the upper and lower *fences*, which lie 1.5 times the inter-fourth range from the median\n",
    "* two *whiskers* that connect the hinges to the fences, and\n",
    "* (potential) *out-liers*, individual points further away from the median than the extremes.\n",
    "http://vita.had.co.nz/papers/boxplots.pdf\n",
    "\n",
    "A Boxplot shows a Distribution summary in a contensed graph."
   ]
  },
  {
   "cell_type": "markdown",
   "metadata": {},
   "source": [
    "### 5 Number Summary\n",
    "\n",
    "A Five Number Summary includes:\n",
    "\n",
    "* Minimum\n",
    "* First Quartile\n",
    "* Median (Second Quartile)\n",
    "* Third Quartile\n",
    "* Maximum\n",
    "\n",
    "https://chartio.com/resources/tutorials/what-is-a-box-plot/\n",
    "\n",
    "\n",
    "One of the key bensefits of the five-number summary is that it allows for describing the distribution of the data set with any data distribution.\n",
    "\n",
    "https://machinelearningmastery.com/how-to-calculate-the-5-number-summary-for-your-data-in-python/\n",
    "\n",
    "\n",
    "\n",
    "Data summarization, such as calculating the mean and standard deviation, are only meaningful for the Gaussian distribution.\n",
    "\n",
    "\n",
    "How to Calculate the 5-Number Summary for Your Data in Python\n",
    "by Jason Brownlee on June 13, 2018 in Statistical Methods\n",
    "Tweet   Share   Share   Google Plus\n",
    "Data summarization provides a convenient way to describe all of the values in a data sample with just a few statistical values.\n",
    "\n",
    "The mean and standard deviation are used to summarize data with a Gaussian distribution, but may not be meaningful, or could even be misleading, if your data sample has a non-Gaussian distribution.\n",
    "\n",
    "\n",
    "Data summarization techniques provide a way to describe the distribution of data using a few key measurements.\n",
    "\n",
    "The most common example of data summarization is the calculation of the mean and standard deviation for data that has a Gaussian distribution. With these two parameters alone, you can understand and re-create the distribution of the data. The data summary can compress as few as tens or as many as millions individual observations.\n",
    "\n",
    "The problem is, you cannot easily calculate the mean and standard deviation of data that does not have a Gaussian distribution. Technically, you can calculate these quantities, but they do not summarize the data distribution; in fact, they can be very misleading.\n",
    "\n",
    "In the case of data that does not have a Gaussian distribution, you can summarize the data sample using the five-number summary.\n"
   ]
  },
  {
   "cell_type": "markdown",
   "metadata": {},
   "source": [
    "A box-and-whisker plot (sometimes called simply a box plot) is a histogram-like method of displaying data, invented by J. Tukey. To create a box-and-whisker plot, draw a box with ends at the quartiles Q_1 and Q_3. Draw the statistical median M as a horizontal line in the box. Now extend the \"whiskers\" to the farthest points that are not outliers (i.e., that are within 3/2 times the interquartile range of Q_1 and Q_3). Then, for every point more than 3/2 times the interquartile range from the end of a box, draw a dot. If two dots have the same value, draw them side by side (Gonick and Smith 1993, p. 21). Box-and-whisker plots are implemented as BoxWhiskerPlot[data] in the Wolfram Language package StatisticalPlots` .\n",
    "\n",
    "A number of other slightly different conventions are sometimes used. In Tukey's original definition, the closely-related and lesser known hinges H_1 and H_3 were used instead of Q_1 and Q_3 (Tukey 1977, p. 39). In addition, Tukey's original formulation lacked horizontal crossbars, extended the whiskers all the way to the extreme data points, and drew an unfilled dot at the maximum and a hatched horizontal strip at the minimum, as illustrated above (left figure; Tukey 1977, p. 40). A variation extended the whiskers only out to some arbitrary minimum and maximum values and identifying the outliers with explicit labels (Tukey 1977, p. 41). Tukey also considered an additional variation in which the outliers are indicated separately and whiskers are dashed, ending with dashed crossbars at \"adjacent values\" (values closest to but still inside the inner fences).\n",
    "\n",
    "http://mathworld.wolfram.com/Box-and-WhiskerPlot.html\n"
   ]
  },
  {
   "cell_type": "markdown",
   "metadata": {},
   "source": [
    "The box-and-whisker plot is useful for revealing the central tendency and variability of a data set, the distribution (particularly symmetry or skewness) of the data, and the presence of outliers. It is also a powerful graphical technique for comparing samples from two or more different treatments or populations. \n",
    "https://www.britannica.com/science/box-and-whisker-plot\n"
   ]
  },
  {
   "attachments": {
    "image.png": {
     "image/png": "[encoded data removed]"
    }
   },
   "cell_type": "markdown",
   "metadata": {
    "collapsed": true
   },
   "source": [
    "### What is a Boxplot\n",
    "http://www.physics.csbsju.edu/stats/box2.html\n",
    "\n",
    "Good description - all taken from this link\n",
    "\n",
    "\"The box plot (a.k.a. box and whisker diagram) is a standardized way of displaying the distribution of data based on the five number summary: minimum, first quartile, median, third quartile, and maximum. In the simplest box plot the central rectangle spans the first quartile to the third quartile (the interquartile range or IQR). A segment inside the rectangle shows the median and \"whiskers\" above and below the box show the locations of the minimum and maximum.\"\n",
    "http://www.physics.csbsju.edu/stats/box2.html\n",
    "\n",
    "![image.png](attachment:image.png)\n",
    "\n",
    "This simplest possible box plot displays the full range of variation (from min to max), the likely range of variation (the IQR), and a typical value (the median). Not uncommonly real datasets will display surprisingly high maximums or surprisingly low minimums called outliers. John Tukey has provided a precise definition for two types of outliers:\n",
    "\n",
    "Outliers are either 3×IQR or more above the third quartile or 3×IQR or more below the first quartile.\n",
    "Suspected outliers are are slightly more central versions of outliers: either 1.5×IQR or more above the third quartile or 1.5×IQR or more below the first quartile.\n",
    "If either type of outlier is present the whisker on the appropriate side is taken to 1.5×IQR from the quartile (the \"inner fence\") rather than the max or min, and individual outlying data points are displayed as unfilled circles (for suspected outliers) or filled circles (for outliers). (The \"outer fence\" is 3×IQR from the quartile.)\n",
    "\n",
    "f the data happens to be normally distributed,\n",
    "\n",
    "IQR = 1.35 σ\n",
    "\n",
    "where σ is the population standard deviation.\n",
    "\n",
    "Suspected outliers are not uncommon in large normally distributed datasets (say more than 100 data-points). Outliers are expected in normally distributed datasets with more than about 10,000 data-points. Here is an example of 1000 normally distributed data displayed as a box plot:\n",
    "\n",
    "Note that outliers are not necessarily \"bad\" data-points; indeed they may well be the most important, most information rich, part of the dataset. Under no circumstances should they be automatically removed from the dataset. Outliers may deserve special consideration: they may be the key to the phenomenon under study or the result of human blunders.\n",
    "\n",
    "One case of particular concern --where a box plot can be deceptive-- is when the data are distributed into \"two lumps\" rather than the \"one lump\" cases we've considered so far.\n",
    "A \"bee swarm\" plot shows that in this dataset there are lots of data near 10 and 15 but relatively few in between. See that a box plot would not give you any evidence of this.\n",
    "http://www.physics.csbsju.edu/stats/box2.html\n"
   ]
  },
  {
   "cell_type": "markdown",
   "metadata": {},
   "source": [
    "The median is another measure of central location that, unlike the mean, is not affected by extremely large or extremely small data values. When determining the median, the data values are first ranked in order from the smallest value to the largest value. If there is an odd number of data values, the median is the middle value; if there is an even number of data values, the median is the average of the two middle values\n",
    "https://www.britannica.com/science/statistics/Numerical-measures#ref367419\n",
    "\n"
   ]
  },
  {
   "cell_type": "markdown",
   "metadata": {},
   "source": [
    "Some Notes...\n",
    "* shows the spread of the data points across the range\n",
    "* Median = middle datapoint\n",
    "* 1 Quartile = middle of 1st half, between lowest value and median\n",
    "* 3 Quartile = middle of second half, between highest value and median\n",
    "* IQR Inter Quartile range = Q3 Identifier -Q1 Identifier\n",
    "* Use the inter-quartile range (IQR) to judge outliers in a dataset.\n",
    "* Outlier: numerical definition: less than Q1 - 1.5x IQR or >Q3 + 1.5x IQR\n",
    "\n"
   ]
  },
  {
   "cell_type": "markdown",
   "metadata": {},
   "source": [
    "The five-number summary provides a concise summary of the distribution of the observations. Reporting five numbers avoids the need to decide on the most appropriate summary statistic. The five-number summary gives information about the location (from the median), spread (from the quartiles) and range (from the sample minimum and maximum) of the observations. Since it reports order statistics (rather than, say, the mean) the five-number summary is appropriate for ordinal measurements, as well as interval and ratio measurements.\n",
    "https://en.wikipedia.org/wiki/Five-number_summary\n"
   ]
  },
  {
   "cell_type": "markdown",
   "metadata": {},
   "source": [
    "compare to Histogram, bell curve"
   ]
  },
  {
   "cell_type": "code",
   "execution_count": 1,
   "metadata": {},
   "outputs": [
    {
     "ename": "NameError",
     "evalue": "name 'numpy' is not defined",
     "output_type": "error",
     "traceback": [
      "\u001b[1;31m---------------------------------------------------------------------------\u001b[0m",
      "\u001b[1;31mNameError\u001b[0m                                 Traceback (most recent call last)",
      "\u001b[1;32m<ipython-input-1-d333b29f72b5>\u001b[0m in \u001b[0;36m<module>\u001b[1;34m()\u001b[0m\n\u001b[1;32m----> 1\u001b[1;33m \u001b[0mnumpy\u001b[0m\u001b[1;33m.\u001b[0m\u001b[0mpercentile\u001b[0m\u001b[1;33m\u001b[0m\u001b[0m\n\u001b[0m",
      "\u001b[1;31mNameError\u001b[0m: name 'numpy' is not defined"
     ]
    }
   ],
   "source": [
    "numpy.percentile"
   ]
  },
  {
   "cell_type": "markdown",
   "metadata": {
    "collapsed": true
   },
   "source": [
    "### Box-and-Whisker Plot\n",
    "\n",
    "Definition: A box-and-whisker plot or boxplot is a diagram based on the five-number summary of a data set.\n",
    "\n",
    "Notice that in any box-and-whisker plot, the left-side whisker represents where we find approximately the lowest 25% of the data and the right-side whisker represents where we find approximately the highest 25% of the data. The box part represents the interquartile range and represents approximately the middle 50% of all the data. The data is divided into four regions, which each represent approximately 25% of the data. This gives us a nice visual representation of how the data is spread out across the range.\n",
    "\n",
    "* The minimum value of a data set is the least value in the set.\n",
    "* The maximum value of a data set is the greatest value in the set.\n",
    " *The range of a data set is the distance between the maximum and minimum value. To compute the range of a data set, we subtract the minimum from the maximum:\n",
    "range = maximum – minimum.\n",
    "* The interquartile range of a data set is the distance between the two quartiles.\n",
    "Interquartile range = Q3 – Q1.\n",
    "* The lower half of a data set is the set of all values that are to the left of the median value when the data has been put into increasing order.\n",
    "* The upper half of a data set is the set of all values that are to the right of the median value when the data has been put into increasing order.\n",
    "* The first quartile, denoted by Q1 , is the median of the lower half of the data set. This means that about 25% of the numbers in the data set lie below Q1 and about 75% lie above Q1 .\n",
    "* The third quartile, denoted by Q3 , is the median of the upper half of the data set. This means that about 75% of the numbers in the data set lie below Q3 and about 25% lie above Q3 .\n",
    "* A data set is any finite set of real numbers.  \n",
    "* A data set is in increasing order if the numbers in the data set are arranged from the least value to greatest value with the least value on the left and the greatest value on the right.\n",
    "* The median of a data set is the number that, when the set is put into increasing order, divides the data into two equal parts.  \n",
    "* If a data set has an odd number of data points, then the median is the middle data value (when the data is in increasing order).\n",
    "* If a data set has an even number of data points, then the median is the mean of the two middle data values (when the data is in increasing order).\n",
    "\n",
    "\n",
    "http://web.mnstate.edu/peil/MDEV102/U4/S36/S365.html"
   ]
  },
  {
   "cell_type": "markdown",
   "metadata": {},
   "source": [
    "### References\n",
    "https://chartio.com/resources/tutorials/what-is-a-box-plot/\n",
    "https://flowingdata.com/2011/12/06/40-years-of-boxplots/\n",
    "http://mathworld.wolfram.com/Box-and-WhiskerPlot.html\n",
    "Tukey, J. W. \"Box-and-Whisker Plots.\" §2C in Exploratory Data Analysis. Reading, MA: Addison-Wesley, pp. 39-43, 1977."
   ]
  },
  {
   "cell_type": "markdown",
   "metadata": {
    "collapsed": true
   },
   "source": [
    "https://www.edwardtufte.com/tufte/tukey"
   ]
  },
  {
   "cell_type": "markdown",
   "metadata": {},
   "source": [
    "### Where is it used."
   ]
  },
  {
   "cell_type": "markdown",
   "metadata": {},
   "source": [
    "Box plots are useful for identifying outliers and for comparing distributions\n",
    "\n",
    "Box plots provide basic information about a distribution. For example, a distribution with a positive skew would have a longer whisker in the positive direction than in the negative direction. A larger mean than median would also indicate a positive skew. Box plots are good at portraying extreme values and are especially good at showing differences between distributions. However, many of the details of a distribution are not revealed in a box plot, and to examine these details one should create a histogram and/or a stem and leaf display. \n",
    "http://onlinestatbook.com/2/graphing_distributions/boxplots.html"
   ]
  },
  {
   "cell_type": "markdown",
   "metadata": {},
   "source": [
    "So far, we’ve looked at box plots for a single series. Graphs such as histograms give a more complete picture of a single series, but the real strength of a box plot is comparing multiple series at a glance. Take the example below, showing hours slept for each day of the week, for a group of 20 high school students.\n",
    "\n",
    "Usually, box plots are used to compare multiple different series of data. It’s perfectly valid to create a box plot for one series, although a histogram might give a more complex or complete picture of the data. Some examples of data sets to compare:\n",
    "Multiple trials of the same experiment: In many Scientific fields, when the same experiment is run many times, the results are tracked in a box plot to show consistencies or inconsistencies across trials.\n",
    "Multiple trials of different experiments: Many similar experiments might be run, with some condition or parameter changing each time. A box plot might help find trends or patterns. The above example of tracking hours slept on various days fits this model.\n",
    "Data broken up by category: A box plot can serve a similar function as a bar graph, but with many values in each category. You could make a box plot of batting averages, with different trials corresponding to different teams, for example.\n",
    "You should also make sure that the data in each series follows some guidelines:\n",
    "The data sets must be measuring the same value, with the same units!\n",
    "Box plots should not be constructed for very small data sets. A data set with only three points in it, for example, shouldn’t logically be divided into four quartiles. In these cases, you can just graph the data as a scatterplot, without any boxes.\n",
    "Usually, different trials should contain the same total number of data points. If one set is much larger than another, for example, it has a larger chance of containing random outliers. Someone looking at your box plot and seeing one series with five or six outliers, and no outliers elsewhere, might draw incorrect conclusions.\n",
    "\n",
    "https://help.plot.ly/what-is-a-box-plot/"
   ]
  },
  {
   "cell_type": "markdown",
   "metadata": {},
   "source": [
    "### Demonstration of Use of Boxplots\n",
    "\n",
    "The purpose of thie exercise is to compare the Statistics (Weights & Heights) of Munster Rugby Squads of 2012 and 2018. The idea is to explore the data for a visible change in the physical make up of players when viewed side by side.\n",
    "\n",
    "* Table consists of 95 players\n",
    "* Split by Field Position and Season\n",
    "* Weight and Height "
   ]
  },
  {
   "cell_type": "code",
   "execution_count": 65,
   "metadata": {
    "collapsed": true
   },
   "outputs": [],
   "source": [
    "#import the relevant libraries\n",
    "import pandas as pd\n",
    "import numpy as np\n",
    "import matplotlib.pyplot as plt #sub package for plotting\n",
    "import seaborn as sns\n",
    "%matplotlib inline\n",
    "#load dataset from local directory\n",
    "df= pd.read_csv(r\"C:\\Users\\john_j_o'neill\\Documents\\RugbyStats.csv\")"
   ]
  },
  {
   "cell_type": "code",
   "execution_count": 66,
   "metadata": {},
   "outputs": [
    {
     "data": {
      "text/html": [
       "<div>\n",
       "<style>\n",
       "    .dataframe thead tr:only-child th {\n",
       "        text-align: right;\n",
       "    }\n",
       "\n",
       "    .dataframe thead th {\n",
       "        text-align: left;\n",
       "    }\n",
       "\n",
       "    .dataframe tbody tr th {\n",
       "        vertical-align: top;\n",
       "    }\n",
       "</style>\n",
       "<table border=\"1\" class=\"dataframe\">\n",
       "  <thead>\n",
       "    <tr style=\"text-align: right;\">\n",
       "      <th></th>\n",
       "      <th>Position</th>\n",
       "      <th>Height</th>\n",
       "      <th>Weight</th>\n",
       "      <th>Season</th>\n",
       "    </tr>\n",
       "  </thead>\n",
       "  <tbody>\n",
       "    <tr>\n",
       "      <th>0</th>\n",
       "      <td>Forward</td>\n",
       "      <td>180</td>\n",
       "      <td>121.00</td>\n",
       "      <td>2012</td>\n",
       "    </tr>\n",
       "    <tr>\n",
       "      <th>1</th>\n",
       "      <td>Forward</td>\n",
       "      <td>175</td>\n",
       "      <td>117.00</td>\n",
       "      <td>2012</td>\n",
       "    </tr>\n",
       "    <tr>\n",
       "      <th>2</th>\n",
       "      <td>Forward</td>\n",
       "      <td>180</td>\n",
       "      <td>115.00</td>\n",
       "      <td>2012</td>\n",
       "    </tr>\n",
       "    <tr>\n",
       "      <th>3</th>\n",
       "      <td>Forward</td>\n",
       "      <td>188</td>\n",
       "      <td>120.00</td>\n",
       "      <td>2012</td>\n",
       "    </tr>\n",
       "    <tr>\n",
       "      <th>4</th>\n",
       "      <td>Forward</td>\n",
       "      <td>185</td>\n",
       "      <td>117.00</td>\n",
       "      <td>2012</td>\n",
       "    </tr>\n",
       "    <tr>\n",
       "      <th>5</th>\n",
       "      <td>Forward</td>\n",
       "      <td>183</td>\n",
       "      <td>112.00</td>\n",
       "      <td>2012</td>\n",
       "    </tr>\n",
       "    <tr>\n",
       "      <th>6</th>\n",
       "      <td>Forward</td>\n",
       "      <td>188</td>\n",
       "      <td>113.00</td>\n",
       "      <td>2012</td>\n",
       "    </tr>\n",
       "    <tr>\n",
       "      <th>7</th>\n",
       "      <td>Forward</td>\n",
       "      <td>185</td>\n",
       "      <td>108.00</td>\n",
       "      <td>2012</td>\n",
       "    </tr>\n",
       "    <tr>\n",
       "      <th>8</th>\n",
       "      <td>Forward</td>\n",
       "      <td>180</td>\n",
       "      <td>110.00</td>\n",
       "      <td>2012</td>\n",
       "    </tr>\n",
       "    <tr>\n",
       "      <th>9</th>\n",
       "      <td>Forward</td>\n",
       "      <td>183</td>\n",
       "      <td>106.00</td>\n",
       "      <td>2012</td>\n",
       "    </tr>\n",
       "    <tr>\n",
       "      <th>10</th>\n",
       "      <td>Forward</td>\n",
       "      <td>183</td>\n",
       "      <td>100.00</td>\n",
       "      <td>2012</td>\n",
       "    </tr>\n",
       "    <tr>\n",
       "      <th>11</th>\n",
       "      <td>Forward</td>\n",
       "      <td>198</td>\n",
       "      <td>114.00</td>\n",
       "      <td>2012</td>\n",
       "    </tr>\n",
       "    <tr>\n",
       "      <th>12</th>\n",
       "      <td>Forward</td>\n",
       "      <td>198</td>\n",
       "      <td>113.00</td>\n",
       "      <td>2012</td>\n",
       "    </tr>\n",
       "    <tr>\n",
       "      <th>13</th>\n",
       "      <td>Forward</td>\n",
       "      <td>198</td>\n",
       "      <td>110.00</td>\n",
       "      <td>2012</td>\n",
       "    </tr>\n",
       "    <tr>\n",
       "      <th>14</th>\n",
       "      <td>Forward</td>\n",
       "      <td>198</td>\n",
       "      <td>108.00</td>\n",
       "      <td>2012</td>\n",
       "    </tr>\n",
       "    <tr>\n",
       "      <th>15</th>\n",
       "      <td>Forward</td>\n",
       "      <td>198</td>\n",
       "      <td>108.00</td>\n",
       "      <td>2012</td>\n",
       "    </tr>\n",
       "    <tr>\n",
       "      <th>16</th>\n",
       "      <td>Forward</td>\n",
       "      <td>183</td>\n",
       "      <td>108.00</td>\n",
       "      <td>2012</td>\n",
       "    </tr>\n",
       "    <tr>\n",
       "      <th>17</th>\n",
       "      <td>Forward</td>\n",
       "      <td>185</td>\n",
       "      <td>107.00</td>\n",
       "      <td>2012</td>\n",
       "    </tr>\n",
       "    <tr>\n",
       "      <th>18</th>\n",
       "      <td>Forward</td>\n",
       "      <td>188</td>\n",
       "      <td>108.00</td>\n",
       "      <td>2012</td>\n",
       "    </tr>\n",
       "    <tr>\n",
       "      <th>19</th>\n",
       "      <td>Forward</td>\n",
       "      <td>191</td>\n",
       "      <td>109.00</td>\n",
       "      <td>2012</td>\n",
       "    </tr>\n",
       "    <tr>\n",
       "      <th>20</th>\n",
       "      <td>Forward</td>\n",
       "      <td>191</td>\n",
       "      <td>108.00</td>\n",
       "      <td>2012</td>\n",
       "    </tr>\n",
       "    <tr>\n",
       "      <th>21</th>\n",
       "      <td>Forward</td>\n",
       "      <td>193</td>\n",
       "      <td>109.00</td>\n",
       "      <td>2012</td>\n",
       "    </tr>\n",
       "    <tr>\n",
       "      <th>22</th>\n",
       "      <td>Forward</td>\n",
       "      <td>185</td>\n",
       "      <td>101.00</td>\n",
       "      <td>2012</td>\n",
       "    </tr>\n",
       "    <tr>\n",
       "      <th>23</th>\n",
       "      <td>Forward</td>\n",
       "      <td>185</td>\n",
       "      <td>101.00</td>\n",
       "      <td>2012</td>\n",
       "    </tr>\n",
       "    <tr>\n",
       "      <th>24</th>\n",
       "      <td>Forward</td>\n",
       "      <td>196</td>\n",
       "      <td>102.00</td>\n",
       "      <td>2012</td>\n",
       "    </tr>\n",
       "    <tr>\n",
       "      <th>25</th>\n",
       "      <td>Forward</td>\n",
       "      <td>191</td>\n",
       "      <td>103.00</td>\n",
       "      <td>2012</td>\n",
       "    </tr>\n",
       "    <tr>\n",
       "      <th>26</th>\n",
       "      <td>Back</td>\n",
       "      <td>188</td>\n",
       "      <td>94.00</td>\n",
       "      <td>2012</td>\n",
       "    </tr>\n",
       "    <tr>\n",
       "      <th>27</th>\n",
       "      <td>Back</td>\n",
       "      <td>175</td>\n",
       "      <td>83.00</td>\n",
       "      <td>2012</td>\n",
       "    </tr>\n",
       "    <tr>\n",
       "      <th>28</th>\n",
       "      <td>Back</td>\n",
       "      <td>175</td>\n",
       "      <td>80.00</td>\n",
       "      <td>2012</td>\n",
       "    </tr>\n",
       "    <tr>\n",
       "      <th>29</th>\n",
       "      <td>Back</td>\n",
       "      <td>170</td>\n",
       "      <td>72.00</td>\n",
       "      <td>2012</td>\n",
       "    </tr>\n",
       "    <tr>\n",
       "      <th>...</th>\n",
       "      <td>...</td>\n",
       "      <td>...</td>\n",
       "      <td>...</td>\n",
       "      <td>...</td>\n",
       "    </tr>\n",
       "    <tr>\n",
       "      <th>65</th>\n",
       "      <td>Back</td>\n",
       "      <td>188</td>\n",
       "      <td>91.82</td>\n",
       "      <td>2018</td>\n",
       "    </tr>\n",
       "    <tr>\n",
       "      <th>66</th>\n",
       "      <td>Back</td>\n",
       "      <td>191</td>\n",
       "      <td>93.18</td>\n",
       "      <td>2018</td>\n",
       "    </tr>\n",
       "    <tr>\n",
       "      <th>67</th>\n",
       "      <td>Back</td>\n",
       "      <td>180</td>\n",
       "      <td>90.00</td>\n",
       "      <td>2018</td>\n",
       "    </tr>\n",
       "    <tr>\n",
       "      <th>68</th>\n",
       "      <td>Forward</td>\n",
       "      <td>183</td>\n",
       "      <td>106.82</td>\n",
       "      <td>2018</td>\n",
       "    </tr>\n",
       "    <tr>\n",
       "      <th>69</th>\n",
       "      <td>Forward</td>\n",
       "      <td>180</td>\n",
       "      <td>105.00</td>\n",
       "      <td>2018</td>\n",
       "    </tr>\n",
       "    <tr>\n",
       "      <th>70</th>\n",
       "      <td>Forward</td>\n",
       "      <td>185</td>\n",
       "      <td>110.91</td>\n",
       "      <td>2018</td>\n",
       "    </tr>\n",
       "    <tr>\n",
       "      <th>71</th>\n",
       "      <td>Forward</td>\n",
       "      <td>183</td>\n",
       "      <td>105.00</td>\n",
       "      <td>2018</td>\n",
       "    </tr>\n",
       "    <tr>\n",
       "      <th>72</th>\n",
       "      <td>Forward</td>\n",
       "      <td>203</td>\n",
       "      <td>120.91</td>\n",
       "      <td>2018</td>\n",
       "    </tr>\n",
       "    <tr>\n",
       "      <th>73</th>\n",
       "      <td>Forward</td>\n",
       "      <td>203</td>\n",
       "      <td>120.91</td>\n",
       "      <td>2018</td>\n",
       "    </tr>\n",
       "    <tr>\n",
       "      <th>74</th>\n",
       "      <td>Forward</td>\n",
       "      <td>206</td>\n",
       "      <td>116.82</td>\n",
       "      <td>2018</td>\n",
       "    </tr>\n",
       "    <tr>\n",
       "      <th>75</th>\n",
       "      <td>Forward</td>\n",
       "      <td>193</td>\n",
       "      <td>111.82</td>\n",
       "      <td>2018</td>\n",
       "    </tr>\n",
       "    <tr>\n",
       "      <th>76</th>\n",
       "      <td>Forward</td>\n",
       "      <td>198</td>\n",
       "      <td>113.18</td>\n",
       "      <td>2018</td>\n",
       "    </tr>\n",
       "    <tr>\n",
       "      <th>77</th>\n",
       "      <td>Forward</td>\n",
       "      <td>188</td>\n",
       "      <td>120.91</td>\n",
       "      <td>2018</td>\n",
       "    </tr>\n",
       "    <tr>\n",
       "      <th>78</th>\n",
       "      <td>Forward</td>\n",
       "      <td>183</td>\n",
       "      <td>115.91</td>\n",
       "      <td>2018</td>\n",
       "    </tr>\n",
       "    <tr>\n",
       "      <th>79</th>\n",
       "      <td>Forward</td>\n",
       "      <td>183</td>\n",
       "      <td>110.91</td>\n",
       "      <td>2018</td>\n",
       "    </tr>\n",
       "    <tr>\n",
       "      <th>80</th>\n",
       "      <td>Forward</td>\n",
       "      <td>185</td>\n",
       "      <td>118.18</td>\n",
       "      <td>2018</td>\n",
       "    </tr>\n",
       "    <tr>\n",
       "      <th>81</th>\n",
       "      <td>Forward</td>\n",
       "      <td>178</td>\n",
       "      <td>110.00</td>\n",
       "      <td>2018</td>\n",
       "    </tr>\n",
       "    <tr>\n",
       "      <th>82</th>\n",
       "      <td>Forward</td>\n",
       "      <td>188</td>\n",
       "      <td>120.00</td>\n",
       "      <td>2018</td>\n",
       "    </tr>\n",
       "    <tr>\n",
       "      <th>83</th>\n",
       "      <td>Forward</td>\n",
       "      <td>183</td>\n",
       "      <td>120.00</td>\n",
       "      <td>2018</td>\n",
       "    </tr>\n",
       "    <tr>\n",
       "      <th>84</th>\n",
       "      <td>Forward</td>\n",
       "      <td>196</td>\n",
       "      <td>121.82</td>\n",
       "      <td>2018</td>\n",
       "    </tr>\n",
       "    <tr>\n",
       "      <th>85</th>\n",
       "      <td>Back</td>\n",
       "      <td>173</td>\n",
       "      <td>83.18</td>\n",
       "      <td>2018</td>\n",
       "    </tr>\n",
       "    <tr>\n",
       "      <th>86</th>\n",
       "      <td>Back</td>\n",
       "      <td>178</td>\n",
       "      <td>81.82</td>\n",
       "      <td>2018</td>\n",
       "    </tr>\n",
       "    <tr>\n",
       "      <th>87</th>\n",
       "      <td>Back</td>\n",
       "      <td>173</td>\n",
       "      <td>93.18</td>\n",
       "      <td>2018</td>\n",
       "    </tr>\n",
       "    <tr>\n",
       "      <th>88</th>\n",
       "      <td>Back</td>\n",
       "      <td>188</td>\n",
       "      <td>93.18</td>\n",
       "      <td>2018</td>\n",
       "    </tr>\n",
       "    <tr>\n",
       "      <th>89</th>\n",
       "      <td>Back</td>\n",
       "      <td>175</td>\n",
       "      <td>80.00</td>\n",
       "      <td>2018</td>\n",
       "    </tr>\n",
       "    <tr>\n",
       "      <th>90</th>\n",
       "      <td>Back</td>\n",
       "      <td>178</td>\n",
       "      <td>86.82</td>\n",
       "      <td>2018</td>\n",
       "    </tr>\n",
       "    <tr>\n",
       "      <th>91</th>\n",
       "      <td>Back</td>\n",
       "      <td>178</td>\n",
       "      <td>90.00</td>\n",
       "      <td>2018</td>\n",
       "    </tr>\n",
       "    <tr>\n",
       "      <th>92</th>\n",
       "      <td>Back</td>\n",
       "      <td>180</td>\n",
       "      <td>90.00</td>\n",
       "      <td>2018</td>\n",
       "    </tr>\n",
       "    <tr>\n",
       "      <th>93</th>\n",
       "      <td>Back</td>\n",
       "      <td>185</td>\n",
       "      <td>93.18</td>\n",
       "      <td>2018</td>\n",
       "    </tr>\n",
       "    <tr>\n",
       "      <th>94</th>\n",
       "      <td>Back</td>\n",
       "      <td>188</td>\n",
       "      <td>96.82</td>\n",
       "      <td>2018</td>\n",
       "    </tr>\n",
       "  </tbody>\n",
       "</table>\n",
       "<p>95 rows × 4 columns</p>\n",
       "</div>"
      ],
      "text/plain": [
       "   Position  Height  Weight  Season\n",
       "0   Forward     180  121.00    2012\n",
       "1   Forward     175  117.00    2012\n",
       "2   Forward     180  115.00    2012\n",
       "3   Forward     188  120.00    2012\n",
       "4   Forward     185  117.00    2012\n",
       "5   Forward     183  112.00    2012\n",
       "6   Forward     188  113.00    2012\n",
       "7   Forward     185  108.00    2012\n",
       "8   Forward     180  110.00    2012\n",
       "9   Forward     183  106.00    2012\n",
       "10  Forward     183  100.00    2012\n",
       "11  Forward     198  114.00    2012\n",
       "12  Forward     198  113.00    2012\n",
       "13  Forward     198  110.00    2012\n",
       "14  Forward     198  108.00    2012\n",
       "15  Forward     198  108.00    2012\n",
       "16  Forward     183  108.00    2012\n",
       "17  Forward     185  107.00    2012\n",
       "18  Forward     188  108.00    2012\n",
       "19  Forward     191  109.00    2012\n",
       "20  Forward     191  108.00    2012\n",
       "21  Forward     193  109.00    2012\n",
       "22  Forward     185  101.00    2012\n",
       "23  Forward     185  101.00    2012\n",
       "24  Forward     196  102.00    2012\n",
       "25  Forward     191  103.00    2012\n",
       "26     Back     188   94.00    2012\n",
       "27     Back     175   83.00    2012\n",
       "28     Back     175   80.00    2012\n",
       "29     Back     170   72.00    2012\n",
       "..      ...     ...     ...     ...\n",
       "65     Back     188   91.82    2018\n",
       "66     Back     191   93.18    2018\n",
       "67     Back     180   90.00    2018\n",
       "68  Forward     183  106.82    2018\n",
       "69  Forward     180  105.00    2018\n",
       "70  Forward     185  110.91    2018\n",
       "71  Forward     183  105.00    2018\n",
       "72  Forward     203  120.91    2018\n",
       "73  Forward     203  120.91    2018\n",
       "74  Forward     206  116.82    2018\n",
       "75  Forward     193  111.82    2018\n",
       "76  Forward     198  113.18    2018\n",
       "77  Forward     188  120.91    2018\n",
       "78  Forward     183  115.91    2018\n",
       "79  Forward     183  110.91    2018\n",
       "80  Forward     185  118.18    2018\n",
       "81  Forward     178  110.00    2018\n",
       "82  Forward     188  120.00    2018\n",
       "83  Forward     183  120.00    2018\n",
       "84  Forward     196  121.82    2018\n",
       "85     Back     173   83.18    2018\n",
       "86     Back     178   81.82    2018\n",
       "87     Back     173   93.18    2018\n",
       "88     Back     188   93.18    2018\n",
       "89     Back     175   80.00    2018\n",
       "90     Back     178   86.82    2018\n",
       "91     Back     178   90.00    2018\n",
       "92     Back     180   90.00    2018\n",
       "93     Back     185   93.18    2018\n",
       "94     Back     188   96.82    2018\n",
       "\n",
       "[95 rows x 4 columns]"
      ]
     },
     "execution_count": 66,
     "metadata": {},
     "output_type": "execute_result"
    }
   ],
   "source": [
    "df #shows the pandas dataframe for RugbyStats.csv file"
   ]
  },
  {
   "cell_type": "markdown",
   "metadata": {},
   "source": [
    "The code below uses the pandas dataframe df in seaborn"
   ]
  },
  {
   "cell_type": "code",
   "execution_count": 48,
   "metadata": {},
   "outputs": [
    {
     "data": {
      "text/plain": [
       "<matplotlib.axes._subplots.AxesSubplot at 0x27a0bf16e10>"
      ]
     },
     "execution_count": 48,
     "metadata": {},
     "output_type": "execute_result"
    },
    {
     "data": {
      "image/png": "[encoded data removed]",
      "text/plain": [
       "<matplotlib.figure.Figure at 0x27a0bc1ad68>"
      ]
     },
     "metadata": {},
     "output_type": "display_data"
    }
   ],
   "source": [
    "sns.boxplot(x=\"Season\",y=\"Height\",data=df) #seaborn boxplot calling on one variable in x axis for Height"
   ]
  },
  {
   "cell_type": "code",
   "execution_count": 49,
   "metadata": {},
   "outputs": [
    {
     "data": {
      "text/plain": [
       "<matplotlib.axes._subplots.AxesSubplot at 0x27a0bf894a8>"
      ]
     },
     "execution_count": 49,
     "metadata": {},
     "output_type": "execute_result"
    },
    {
     "data": {
      "image/png": "[encoded data removed]",
      "text/plain": [
       "<matplotlib.figure.Figure at 0x27a0bf34a58>"
      ]
     },
     "metadata": {},
     "output_type": "display_data"
    }
   ],
   "source": [
    "sns.boxplot(x=\"Position\",y=\"Height\",data=df)# split sout Height by Position"
   ]
  },
  {
   "cell_type": "code",
   "execution_count": 72,
   "metadata": {},
   "outputs": [
    {
     "data": {
      "text/plain": [
       "<matplotlib.axes._subplots.AxesSubplot at 0x27a0c278b00>"
      ]
     },
     "execution_count": 72,
     "metadata": {},
     "output_type": "execute_result"
    },
    {
     "data": {
      "image/png": "[encoded data removed]",
      "text/plain": [
       "<matplotlib.figure.Figure at 0x27a0c18a6d8>"
      ]
     },
     "metadata": {},
     "output_type": "display_data"
    }
   ],
   "source": [
    "sns.boxplot(x=\"Season\",y=\"Weight\",data=df)"
   ]
  },
  {
   "cell_type": "code",
   "execution_count": 74,
   "metadata": {},
   "outputs": [
    {
     "data": {
      "text/plain": [
       "<seaborn.axisgrid.PairGrid at 0x27a0c4f9518>"
      ]
     },
     "execution_count": 74,
     "metadata": {},
     "output_type": "execute_result"
    },
    {
     "data": {
      "image/png": "[encoded data removed]",
      "text/plain": [
       "<matplotlib.figure.Figure at 0x27a0ce915f8>"
      ]
     },
     "metadata": {},
     "output_type": "display_data"
    }
   ],
   "source": [
    "sns.pairplot(df, hue=\"Position\")"
   ]
  },
  {
   "cell_type": "code",
   "execution_count": 51,
   "metadata": {},
   "outputs": [
    {
     "data": {
      "text/plain": [
       "<matplotlib.axes._subplots.AxesSubplot at 0x27a0bfe99e8>"
      ]
     },
     "execution_count": 51,
     "metadata": {},
     "output_type": "execute_result"
    },
    {
     "data": {
      "image/png": "[encoded data removed]",
      "text/plain": [
       "<matplotlib.figure.Figure at 0x27a0bc561d0>"
      ]
     },
     "metadata": {},
     "output_type": "display_data"
    }
   ],
   "source": [
    "sns.boxplot(x=\"Position\",y=\"Weight\",data=df)"
   ]
  },
  {
   "cell_type": "code",
   "execution_count": 52,
   "metadata": {},
   "outputs": [
    {
     "data": {
      "text/plain": [
       "<matplotlib.axes._subplots.AxesSubplot at 0x27a0bff9128>"
      ]
     },
     "execution_count": 52,
     "metadata": {},
     "output_type": "execute_result"
    },
    {
     "data": {
      "image/png": "[encoded data removed]",
      "text/plain": [
       "<matplotlib.figure.Figure at 0x27a0c047a58>"
      ]
     },
     "metadata": {},
     "output_type": "display_data"
    }
   ],
   "source": [
    "sns.boxplot(x=\"Position\",y=\"Weight\",hue= \"Season\",data=df)"
   ]
  },
  {
   "cell_type": "code",
   "execution_count": 55,
   "metadata": {},
   "outputs": [
    {
     "data": {
      "text/plain": [
       "<matplotlib.axes._subplots.AxesSubplot at 0x27a0c160da0>"
      ]
     },
     "execution_count": 55,
     "metadata": {},
     "output_type": "execute_result"
    },
    {
     "data": {
      "image/png": "[encoded data removed]",
      "text/plain": [
       "<matplotlib.figure.Figure at 0x27a0bfe9438>"
      ]
     },
     "metadata": {},
     "output_type": "display_data"
    }
   ],
   "source": [
    "sns.swarmplot(x=\"Weight\",y=\"Position\",hue= \"Season\",data=df)"
   ]
  },
  {
   "cell_type": "code",
   "execution_count": null,
   "metadata": {
    "collapsed": true
   },
   "outputs": [],
   "source": []
  }
 ],
 "metadata": {
  "kernelspec": {
   "display_name": "Python 3",
   "language": "python",
   "name": "python3"
  },
  "language_info": {
   "codemirror_mode": {
    "name": "ipython",
    "version": 3
   },
   "file_extension": ".py",
   "mimetype": "text/x-python",
   "name": "python",
   "nbconvert_exporter": "python",
   "pygments_lexer": "ipython3",
   "version": "3.6.3"
  }
 },
 "nbformat": 4,
 "nbformat_minor": 2
}
